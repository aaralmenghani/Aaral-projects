{
  "nbformat": 4,
  "nbformat_minor": 0,
  "metadata": {
    "colab": {
      "name": "Copy of  2020-08-31_aaral_ApT5",
      "provenance": [],
      "collapsed_sections": [],
      "include_colab_link": true
    },
    "kernelspec": {
      "name": "python3",
      "display_name": "Python 3"
    }
  },
  "cells": [
    {
      "cell_type": "markdown",
      "metadata": {
        "id": "view-in-github",
        "colab_type": "text"
      },
      "source": [
        "<a href=\"https://colab.research.google.com/github/aaralmenghani/Aaral-projects/blob/master/Copy_of_2020_08_31_aaral_ApT5.ipynb\" target=\"_parent\"><img src=\"https://colab.research.google.com/assets/colab-badge.svg\" alt=\"Open In Colab\"/></a>"
      ]
    },
    {
      "cell_type": "markdown",
      "metadata": {
        "id": "ywVdfNdkVjZo",
        "colab_type": "text"
      },
      "source": [
        "# Lesson 5: Python Lists I"
      ]
    },
    {
      "cell_type": "markdown",
      "metadata": {
        "id": "7LlG_PPFjJUz",
        "colab_type": "text"
      },
      "source": [
        "### Teacher-Student Activities\n",
        "\n",
        "In the previous lesson, we learnt in detail the functionality of the `gameplay()` function. We also introduced Python lists. In this class, we will learn more about Python lists.\n",
        "\n",
        "Using the Python lists concepts, we will re-create the count-based algorithm we created in the second class. Here's the code for the same.\n",
        "\n",
        "```\n",
        "import random \n",
        "\n",
        "player_inputs_list = []\n",
        "\n",
        "player_score = 0\n",
        "computer_score = 0\n",
        "\n",
        "def prediction():\n",
        "  count_zero = player_inputs_list.count(0)\n",
        "  count_one = player_inputs_list.count(1)\n",
        "\n",
        "  if count_zero > count_one:\n",
        "    predict = 0\n",
        "  elif count_one > count_zero:\n",
        "    predict = 1\n",
        "  else:\n",
        "    predict = random.randint(0, 1)\n",
        "  return predict\n",
        "\n",
        "def update_scores(predicted, player_input):\n",
        "  global player_score, computer_score\n",
        "  if predicted == player_input:\n",
        "    computer_score = computer_score + 1\n",
        "    print(\"Computer Score:\", computer_score)\n",
        "    print(\"Player Score:\", player_score)\n",
        "  else:\n",
        "    player_score = player_score + 1\n",
        "    print(\"Computer Score:\", computer_score)\n",
        "    print(\"Player Score:\", player_score)\n",
        "\n",
        "def gameplay():\n",
        "  valid_entries = ['0', '1']\n",
        "  while True:\n",
        "    predicted = prediction()\n",
        "    player_input = input(\"Enter either 0 or 1: \")\n",
        "    while player_input not in valid_entries:\n",
        "      print(\"Invalid Input!\")\n",
        "      player_input = input(\"Please enter either 0 or 1: \")\n",
        "    \n",
        "    player_input = int(player_input)\n",
        "    player_inputs_list.append(player_input)\n",
        "    update_scores(predicted, player_input)\n",
        "\n",
        "    if player_score == 50:\n",
        "      print(\"Congrats, You Won!\")\n",
        "      break\n",
        "    elif computer_score == 50:\n",
        "      print(\"Bad Luck, You Lost!\")\n",
        "      break\n",
        "```\n",
        "\n",
        "Now, let's jump into learning Python lists in detail."
      ]
    },
    {
      "cell_type": "markdown",
      "metadata": {
        "id": "A9DUkIzL8p6S",
        "colab_type": "text"
      },
      "source": [
        "---"
      ]
    },
    {
      "cell_type": "markdown",
      "metadata": {
        "id": "6rgqCdWj8OEI",
        "colab_type": "text"
      },
      "source": [
        "### Python Lists\n",
        "\n",
        "In the previous class, we created a Python list which stores the names of the countries who won the FIFA world cup from `1982` till `2018`. \n",
        "\n",
        "|Year|Winner|\n",
        "|-|-|\n",
        "|1982|Italy|\n",
        "|1986|Argentina|\n",
        "|1990|Germany|\n",
        "|1994|Brazil|\n",
        "|1998|France|\n",
        "|2002|Brazil|\n",
        "|2006|Italy|\n",
        "|2010|Spain|\n",
        "|2014|Germany|\n",
        "|2018|France|\n",
        "\n",
        "We stored the list in the `fifa_wc_winners` variable."
      ]
    },
    {
      "cell_type": "code",
      "metadata": {
        "id": "kRE_dZzB-Fy_",
        "colab_type": "code",
        "colab": {
          "base_uri": "https://localhost:8080/",
          "height": 191
        },
        "outputId": "27dfe8ff-c61b-48df-f0cd-b1c097ee1ee6"
      },
      "source": [
        "# Teacher Action: Run the code below to activate the Python list containing all the winners of FIFA world cup from 1982 to 2018.\n",
        "fifa_wc_winners = ['Italy', 'Argentina', 'Germany', 'Brazil', 'France', 'Brazil', 'Italy', 'Spain', 'Germany', 'France']\n",
        "fifa_wc_winners"
      ],
      "execution_count": null,
      "outputs": [
        {
          "output_type": "execute_result",
          "data": {
            "text/plain": [
              "['Italy',\n",
              " 'Argentina',\n",
              " 'Germany',\n",
              " 'Brazil',\n",
              " 'France',\n",
              " 'Brazil',\n",
              " 'Italy',\n",
              " 'Spain',\n",
              " 'Germany',\n",
              " 'France']"
            ]
          },
          "metadata": {
            "tags": []
          },
          "execution_count": 1
        }
      ]
    },
    {
      "cell_type": "markdown",
      "metadata": {
        "id": "kCImGio9-h9U",
        "colab_type": "text"
      },
      "source": [
        "We also learnt how to check whether an item exists in a list or not using the `in` and `not in` keywords and how to verify whether a value stored in a variable is a list or not using the `type()` function. Let's continue from there. "
      ]
    },
    {
      "cell_type": "markdown",
      "metadata": {
        "id": "lIrcRcod-i1O",
        "colab_type": "text"
      },
      "source": [
        "---"
      ]
    },
    {
      "cell_type": "markdown",
      "metadata": {
        "id": "ulZE26jaMU3P",
        "colab_type": "text"
      },
      "source": [
        "#### Activity 1: The `count()` Function\n",
        "\n",
        "In another version of the count based algorithm for the Mind Reader game, we are going to record the player inputs in a Python list. Then we will count the number of times a player played `0` and `1` using the ready-made function for Python lists called `count()`.\n",
        "\n",
        "The `count()` function will eliminate the need for the `update_counts()` function that we created in the second class.\n",
        "\n",
        "To use the `count()` function, you just need to write the list followed by the dot (`.`) operator followed by the `count()` function. Enter the item as an input to the `count()` function whose occurrence you wish to count.\n",
        "\n",
        "**Syntax:** `list_name.count(item)`\n",
        "\n",
        "Let's find out the number of times `'France'` and `'Brazil'` have won the world cup(s) between the years `1982` and `2018`."
      ]
    },
    {
      "cell_type": "code",
      "metadata": {
        "id": "0HLcxrAxPBwa",
        "colab_type": "code",
        "colab": {
          "base_uri": "https://localhost:8080/",
          "height": 35
        },
        "outputId": "7202105e-3477-44c3-9839-c3a9292d3ed2"
      },
      "source": [
        "# Student Action: Count the number of times 'France' has won the world cup between the years 1982 and 2018.\n",
        "fifa_wc_winners.count(\"France\")"
      ],
      "execution_count": null,
      "outputs": [
        {
          "output_type": "execute_result",
          "data": {
            "text/plain": [
              "2"
            ]
          },
          "metadata": {
            "tags": []
          },
          "execution_count": 2
        }
      ]
    },
    {
      "cell_type": "markdown",
      "metadata": {
        "id": "hwKc18slPPxC",
        "colab_type": "text"
      },
      "source": [
        "So, `'France'` has won the world cup twice."
      ]
    },
    {
      "cell_type": "code",
      "metadata": {
        "id": "_dHF77d8PWDU",
        "colab_type": "code",
        "colab": {
          "base_uri": "https://localhost:8080/",
          "height": 35
        },
        "outputId": "bc199c9b-2895-466b-a82e-85ae1dfb9947"
      },
      "source": [
        "# Student Action: Count the number of times 'Brazil' has won the world cup between the years 1982 and 2018.\n",
        "fifa_wc_winners.count(\"Brazil\")"
      ],
      "execution_count": null,
      "outputs": [
        {
          "output_type": "execute_result",
          "data": {
            "text/plain": [
              "2"
            ]
          },
          "metadata": {
            "tags": []
          },
          "execution_count": 3
        }
      ]
    },
    {
      "cell_type": "markdown",
      "metadata": {
        "id": "vIlGRLvlPbsN",
        "colab_type": "text"
      },
      "source": [
        "And, `'Brazil'` has also won the world cup twice between the years `1982` and `2018`."
      ]
    },
    {
      "cell_type": "markdown",
      "metadata": {
        "colab_type": "text",
        "id": "im74znVg_zWA"
      },
      "source": [
        "---"
      ]
    },
    {
      "cell_type": "markdown",
      "metadata": {
        "id": "xCBbVdNS4EC-",
        "colab_type": "text"
      },
      "source": [
        "#### Activity 2: An Empty List\n",
        "\n",
        "Let's create a list which will record the player inputs. Let's store it in a variable with the name `player_inputs_list`. Before the beginning of the game, the list will be empty. That means, it will NOT contain any player input. So, let's create an empty list and store it in the `player_inputs_list` variable.\n"
      ]
    },
    {
      "cell_type": "code",
      "metadata": {
        "id": "WS1e7xBHAN4S",
        "colab_type": "code",
        "colab": {
          "base_uri": "https://localhost:8080/",
          "height": 35
        },
        "outputId": "ddd6c565-b1b8-42e5-e7db-454506ed0775"
      },
      "source": [
        "# Student Action: Create an empty list and store in a variable with name 'player_inputs_list'.\n",
        "player_inputs_list = []\n",
        "print(player_inputs_list)"
      ],
      "execution_count": null,
      "outputs": [
        {
          "output_type": "stream",
          "text": [
            "[]\n"
          ],
          "name": "stdout"
        }
      ]
    },
    {
      "cell_type": "markdown",
      "metadata": {
        "id": "-gD3Yb0RAz6T",
        "colab_type": "text"
      },
      "source": [
        "As you can see, we have created an empty list."
      ]
    },
    {
      "cell_type": "markdown",
      "metadata": {
        "id": "OHP5X39HA47W",
        "colab_type": "text"
      },
      "source": [
        "---"
      ]
    },
    {
      "cell_type": "markdown",
      "metadata": {
        "id": "hhSZVe9aA5j2",
        "colab_type": "text"
      },
      "source": [
        "#### Activity 3: The `append()` Function^^\n",
        "\n",
        "To add an item to a Python list, you can use the `append()` function. A new item always gets added at the right-most end of a list.\n",
        "\n",
        "To use the `append()` function, you just need to write the list followed by the dot (`.`) operator followed by the `append()` function. Enter the item as an input to the `append()` function which you need to add to a list.\n",
        "\n",
        "**Syntax:** `list_name.append(item)`\n",
        "\n",
        "Suppose a player plays `0, 0, 1, 0, 1` for the first five attempts. Let's add these inputs to the list stored in the `player_inputs_list` variable."
      ]
    },
    {
      "cell_type": "code",
      "metadata": {
        "id": "2XfXqu4OB--r",
        "colab_type": "code",
        "colab": {
          "base_uri": "https://localhost:8080/",
          "height": 121
        },
        "outputId": "080d5486-d656-4ce4-e4a8-9353485ab9d9"
      },
      "source": [
        "# Student Action: Using the 'append()' function, add the items 0, 0, 1, 0 and 1 to the list stored in the 'player_inputs_list' variable.\n",
        "# Print the updated list after adding each item to the 'player_inputs_list'.\n",
        "\n",
        "# Empty list\n",
        "player_inputs_list = []\n",
        "print(player_inputs_list)\n",
        "# First item.\n",
        "player_inputs_list.append(0)\n",
        "print(\"first item\",player_inputs_list)\n",
        "# Second item.\n",
        "player_inputs_list.append(0)\n",
        "print(\"second item\",player_inputs_list)\n",
        "# Third item.\n",
        "player_inputs_list.append(1)\n",
        "print(\"third item\",player_inputs_list)\n",
        "# Fourth item.\n",
        "player_inputs_list.append(0)\n",
        "print(\"fourth item\",player_inputs_list)\n",
        "# Fifth item.\n",
        "player_inputs_list.append(1)\n",
        "print(\"fifth item\",player_inputs_list)\n"
      ],
      "execution_count": null,
      "outputs": [
        {
          "output_type": "stream",
          "text": [
            "[]\n",
            "first item [0]\n",
            "second item [0, 0]\n",
            "third item [0, 0, 1]\n",
            "fourth item [0, 0, 1, 0]\n",
            "fifth item [0, 0, 1, 0, 1]\n"
          ],
          "name": "stdout"
        }
      ]
    },
    {
      "cell_type": "markdown",
      "metadata": {
        "id": "-bBBRCNCGuoj",
        "colab_type": "text"
      },
      "source": [
        "As you can see, a new item gets added at the right-most end of the list. Let's count the number of times `0` and `1` appear in the `player_inputs_list` using the `count()` function."
      ]
    },
    {
      "cell_type": "code",
      "metadata": {
        "id": "x__YLMdTK3Wy",
        "colab_type": "code",
        "colab": {
          "base_uri": "https://localhost:8080/",
          "height": 52
        },
        "outputId": "dfee89b5-7544-4165-83fc-bb9522775e12"
      },
      "source": [
        "# Student Action: Count the number of times 0 and 1 appear in the 'player_inputs_list'.\n",
        "print(player_inputs_list.count(0))\n",
        "print(player_inputs_list.count(1))"
      ],
      "execution_count": null,
      "outputs": [
        {
          "output_type": "stream",
          "text": [
            "3\n",
            "2\n"
          ],
          "name": "stdout"
        }
      ]
    },
    {
      "cell_type": "markdown",
      "metadata": {
        "id": "8Sl-Ae7JLHdH",
        "colab_type": "text"
      },
      "source": [
        "So, `0` appears thrice and `1` appears twice in the `players_inputs_list`."
      ]
    },
    {
      "cell_type": "markdown",
      "metadata": {
        "colab_type": "text",
        "id": "GkQYzaCI4DGs"
      },
      "source": [
        "---"
      ]
    },
    {
      "cell_type": "markdown",
      "metadata": {
        "id": "0LuQTtRnSAWj",
        "colab_type": "text"
      },
      "source": [
        "#### Activity 4: The Revised `prediction()` Function^\n",
        "\n",
        "Now, using the knowledge of Python lists, let's re-define the `prediction()` function that we created in our second class/lesson.\n",
        "\n",
        "Inside this function: \n",
        "\n",
        "- Create two variables `count_zero` and `count_one` to store the number of times a player has entered `0` and `1` respectively. \n",
        "\n",
        "- Using the `count()` function, count the number of times a player has entered `0` and `1`. Then store them in the `count_zero` and `count_one` variables.\n",
        "\n",
        "- Compare the values of the `count_zero` and `count_one` variables. \n",
        "\n",
        "    - If `count_zero > count_one`, the `prediction()` function should return `0` as\n",
        "the prediction.\n",
        "\n",
        "    - Else if `count_one > count_zero`, the `prediction()` function should return `1` as the prediction.\n",
        "\n",
        "    - Else the `prediction()` function should return either `0` or `1` randomly as the prediction."
      ]
    },
    {
      "cell_type": "code",
      "metadata": {
        "id": "HkzbxzQlJZDf",
        "colab_type": "code",
        "colab": {}
      },
      "source": [
        "# Student Action: Recreate the 'prediction()' function using Python lists.\n",
        "import random\n",
        "def pred():\n",
        "  count0 = player_inputs_list.count(0)\n",
        "  count1 = player_inputs_list.count(1)\n",
        "  if count0 > count1:\n",
        "    predict = 0\n",
        "  elif count1 > count0:\n",
        "    predict = 1\n",
        "  else:\n",
        "    predict = random.randint(0, 1)\n",
        "  return predict"
      ],
      "execution_count": null,
      "outputs": []
    },
    {
      "cell_type": "markdown",
      "metadata": {
        "id": "FGSjeSTEVq-1",
        "colab_type": "text"
      },
      "source": [
        "---"
      ]
    },
    {
      "cell_type": "markdown",
      "metadata": {
        "id": "_9jUqOBlMAQC",
        "colab_type": "text"
      },
      "source": [
        "#### Activity 5: Count Based Mind Reader Game Algorithm Using Python Lists^^^\n",
        "\n",
        "Now, let's run the Mind Reader game with the new `prediction()` function which uses a Python list stored in the `player_inputs_list` variable.\n",
        "\n",
        "Also, there is a slight change in the `gameplay()` function. After getting the `predicted` value from the `prediction()` function, we will add the current `player_input` value to the `player_inputs_list` using the `append()` function.\n",
        "\n",
        "For the testing purposes, we will run the game until either the player or the computer has reached a score of 10 points. Later you can change the scoring to `50` points."
      ]
    },
    {
      "cell_type": "code",
      "metadata": {
        "id": "dhWD_3x011uH",
        "colab_type": "code",
        "colab": {
          "base_uri": "https://localhost:8080/",
          "height": 87
        },
        "outputId": "48695686-35ff-40dc-9ae3-23fea7bc6597"
      },
      "source": [
        "# Student Action: Use the revised 'prediction()' function to create the count based Mind Reader game algorithm.\n",
        "# Import the random module\n",
        "import random\n",
        "# Create an empty list and store it in the 'player_inputs_list' variable.\n",
        "player_inputs_list = []\n",
        "# Create the 'player_score' and 'computer_score=' variables. Set their initial values equal to 0.\n",
        "player_score = 0\n",
        "computer_score = 0\n",
        "# Declare the 'prediction()' function here.\n",
        "def pred():\n",
        "  count0 = player_inputs_list.count(0)\n",
        "  count1 = player_inputs_list.count(1)\n",
        "  if count0 > count1:\n",
        "    predict = 0\n",
        "  elif count1 > count0:\n",
        "    predict = 1\n",
        "  else:\n",
        "    predict = random.randint(0, 1)\n",
        "  return predict\n",
        "# Declare the 'update_scores()' function here.\n",
        "def update_score(predicted, player_input):\n",
        "  global player_score, computer_score\n",
        "  if predicted == player_input:\n",
        "    computer_score = computer_score + 1\n",
        "    print(\"score of player\", player_score)\n",
        "    print(\"score of computer \", computer_score)\n",
        "  else:\n",
        "    player_score = player_score + 1\n",
        "    print(\"score of player\", player_score)\n",
        "    print(\"score of computer \", computer_score)\n",
        "# Declare the 'gameplay()' function here.\n",
        "def gameplay():\n",
        "  valid_entries = [\"0\",\"1\"]\n",
        "  while True:\n",
        "    predicted = pred()\n",
        "    player_input = input(\"enter 0 or 1\")\n",
        "    while player_input not in valid_entries:\n",
        "      print(\"invalid input\")\n",
        "      player_input = input(\"enter 0 or 1\")\n",
        "    player_input = int(player_input)\n",
        "    player_inputs_list.append(player_input)\n",
        "    update_score(predicted, player_input)\n",
        "    if player_score == 10:\n",
        "      print(\"you won\")\n",
        "      break\n",
        "    else:\n",
        "      print(\"computer won\")\n",
        "      break\n",
        "# Call the 'gameplay()' function here.\n",
        "gameplay()"
      ],
      "execution_count": null,
      "outputs": [
        {
          "output_type": "stream",
          "text": [
            "enter 0 or 11\n",
            "score of player 0\n",
            "score of computer  1\n",
            "computer won\n"
          ],
          "name": "stdout"
        }
      ]
    },
    {
      "cell_type": "markdown",
      "metadata": {
        "id": "E_xx932hSYn9",
        "colab_type": "text"
      },
      "source": [
        "At the end of the game, if you want to look at the player inputs, then you can print the `player_inputs_list`."
      ]
    },
    {
      "cell_type": "code",
      "metadata": {
        "id": "fTclQOhWSYMs",
        "colab_type": "code",
        "colab": {}
      },
      "source": [
        "# Student Action: Print the 'player_inputs_list'.\n"
      ],
      "execution_count": null,
      "outputs": []
    },
    {
      "cell_type": "markdown",
      "metadata": {
        "id": "K9lJqak6SztT",
        "colab_type": "text"
      },
      "source": [
        "In the next class, we will continue learning more concepts of Python lists."
      ]
    },
    {
      "cell_type": "markdown",
      "metadata": {
        "id": "mH4-6NfgSxyW",
        "colab_type": "text"
      },
      "source": [
        "---"
      ]
    }
  ]
}