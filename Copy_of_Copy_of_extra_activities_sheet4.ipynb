{
  "nbformat": 4,
  "nbformat_minor": 0,
  "metadata": {
    "colab": {
      "name": "Copy of Copy of extra_activities_sheet4",
      "provenance": [],
      "include_colab_link": true
    },
    "kernelspec": {
      "name": "python3",
      "display_name": "Python 3"
    }
  },
  "cells": [
    {
      "cell_type": "markdown",
      "metadata": {
        "id": "view-in-github",
        "colab_type": "text"
      },
      "source": [
        "<a href=\"https://colab.research.google.com/github/aaralmenghani/Aaral-projects/blob/master/Copy_of_Copy_of_extra_activities_sheet4.ipynb\" target=\"_parent\"><img src=\"https://colab.research.google.com/assets/colab-badge.svg\" alt=\"Open In Colab\"/></a>"
      ]
    },
    {
      "cell_type": "markdown",
      "metadata": {
        "id": "QJXhgh2C_b0C",
        "colab_type": "text"
      },
      "source": [
        "#### Activity 1: Triangle I\n",
        "\n",
        "Write a code to get the following output using a while loop.\n",
        "\n",
        "```\n",
        "1\n",
        "11\n",
        "111\n",
        "1111\n",
        "11111\n",
        "```"
      ]
    },
    {
      "cell_type": "code",
      "metadata": {
        "id": "PgzwGwgL6tgR",
        "colab_type": "code",
        "colab": {
          "base_uri": "https://localhost:8080/",
          "height": 104
        },
        "outputId": "7c19027c-6e62-42fd-d015-02bb6d6b32d9"
      },
      "source": [
        "# create 2 variables num1 and num2 and initialize 1 and 0 in them respectively.\n",
        "num1 = 1\n",
        "num2 = 0\n",
        "# create while loop for num2<5\n",
        "while num2 < 5:\n",
        "  #print num1 variable\n",
        "  print(num1)\n",
        "\n",
        "  #do num1 * 10 + 1 and store in num1\n",
        "  num1 = num1 * 10 + 1\n",
        "\n",
        "  # increment the value of num2 by 1\n",
        "  num2 = num2 + 1\n",
        "\n",
        "  "
      ],
      "execution_count": 3,
      "outputs": [
        {
          "output_type": "stream",
          "text": [
            "1\n",
            "11\n",
            "111\n",
            "1111\n",
            "11111\n"
          ],
          "name": "stdout"
        }
      ]
    },
    {
      "cell_type": "markdown",
      "metadata": {
        "id": "6T49aYcGCN1S",
        "colab_type": "text"
      },
      "source": [
        "#### Activity 2: Triangle II\n",
        "\n",
        "Write a code to get the following output using a while loop.\n",
        "\n",
        "```\n",
        "1\n",
        "101\n",
        "10101\n",
        "1010101\n",
        "101010101\n",
        "```"
      ]
    },
    {
      "cell_type": "code",
      "metadata": {
        "colab_type": "code",
        "id": "idDkvCAb7ulc",
        "colab": {
          "base_uri": "https://localhost:8080/",
          "height": 104
        },
        "outputId": "79bc0673-29e2-4978-ebf0-d7a9ff304ea4"
      },
      "source": [
        "# create 2 variables num1 and num2 and initialize 1 and 0 in them respectively.\n",
        "num1 = 1\n",
        "num2 = 0\n",
        "# create while loop for num2<5\n",
        "while num2 <5:\n",
        "  #print num1 variable\n",
        "  print (num1) \n",
        "  #do num1 * 100 + 1 and store in num1\n",
        "  num1 = num1 * 100 + 1\n",
        "  # increment the value of num2 by 1\n",
        "  num2 = num2 + 1"
      ],
      "execution_count": 7,
      "outputs": [
        {
          "output_type": "stream",
          "text": [
            "1\n",
            "101\n",
            "10101\n",
            "1010101\n",
            "101010101\n"
          ],
          "name": "stdout"
        }
      ]
    },
    {
      "cell_type": "markdown",
      "metadata": {
        "id": "3245o66ZF-8r",
        "colab_type": "text"
      },
      "source": [
        "#### Activity 3: Powers of 11\n",
        "\n",
        "Print the first five powers of 11 without using the `**` operator. Here's the expected output.\n",
        "\n",
        "```\n",
        "11\n",
        "121\n",
        "1331\n",
        "14641\n",
        "161051\n",
        "```\n",
        "\n"
      ]
    },
    {
      "cell_type": "code",
      "metadata": {
        "colab_type": "code",
        "id": "W3nM70x875o8",
        "colab": {
          "base_uri": "https://localhost:8080/",
          "height": 104
        },
        "outputId": "2754ed8c-9db2-4525-b412-c9e9266c391c"
      },
      "source": [
        "# create 2 variables num1 and num2 and initialize 11 and 0 in them respectively.\n",
        "num1 = 11\n",
        "num2 = 0\n",
        "# create while loop for num2<5\n",
        "while num2 < 5:\n",
        "  #print num1 variable\n",
        "  print (num1) \n",
        "  #do num1 * 10 + 1 and store in num1\n",
        "  num1 = num1 * (10 + 1) \n",
        "  # increment the value of num2 by 1\n",
        "  num2 = num2 + 1"
      ],
      "execution_count": 14,
      "outputs": [
        {
          "output_type": "stream",
          "text": [
            "11\n",
            "121\n",
            "1331\n",
            "14641\n",
            "161051\n"
          ],
          "name": "stdout"
        }
      ]
    },
    {
      "cell_type": "markdown",
      "metadata": {
        "id": "TH1xJNCm8DWc",
        "colab_type": "text"
      },
      "source": [
        "### **Activity 3:** Create an infinite loop of your choice and give me an amazing number.\n"
      ]
    },
    {
      "cell_type": "code",
      "metadata": {
        "id": "v_eZyEyn8T84",
        "colab_type": "code",
        "colab": {
          "base_uri": "https://localhost:8080/",
          "height": 35
        },
        "outputId": "18c43e14-d937-45af-92cb-0bf340de3db0"
      },
      "source": [
        "a =1\n",
        "while a >= 0:\n",
        "  a = a+1\n",
        "  if a == 111199:\n",
        "    break\n",
        "print(a)"
      ],
      "execution_count": 22,
      "outputs": [
        {
          "output_type": "stream",
          "text": [
            "111199\n"
          ],
          "name": "stdout"
        }
      ]
    }
  ]
}