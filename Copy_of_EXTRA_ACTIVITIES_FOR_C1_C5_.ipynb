{
  "nbformat": 4,
  "nbformat_minor": 0,
  "metadata": {
    "colab": {
      "name": "Copy of EXTRA ACTIVITIES FOR C1-C5:",
      "provenance": [],
      "include_colab_link": true
    },
    "kernelspec": {
      "name": "python3",
      "display_name": "Python 3"
    }
  },
  "cells": [
    {
      "cell_type": "markdown",
      "metadata": {
        "id": "view-in-github",
        "colab_type": "text"
      },
      "source": [
        "<a href=\"https://colab.research.google.com/github/aaralmenghani/Aaral-projects/blob/master/Copy_of_EXTRA_ACTIVITIES_FOR_C1_C5_.ipynb\" target=\"_parent\"><img src=\"https://colab.research.google.com/assets/colab-badge.svg\" alt=\"Open In Colab\"/></a>"
      ]
    },
    {
      "cell_type": "markdown",
      "metadata": {
        "id": "6ninsSBGSDPN",
        "colab_type": "text"
      },
      "source": [
        "**1: ODD OR EVEN?**\n",
        "\n",
        "USE **IF-ELSE CONDITIONAL STATEMENT** TO CHECK WHETHER THE NUMBER IS EVEN OR ODD.\n",
        "\n",
        "(TRY TO MAKE THE CODE AND OUTPUT MORE PRESENTABLE)\n",
        "\n",
        "\n",
        "\n",
        "USE **MODULO OPERATOR** TO CHECK ODD OR EVEN : The **%** symbol in Python is called the Modulo Operator. It returns the remainder of dividing the left hand operand by right hand operand. It's used to get the remainder of a division problem."
      ]
    },
    {
      "cell_type": "code",
      "metadata": {
        "id": "Zef_iMq3SypU",
        "colab_type": "code",
        "colab": {}
      },
      "source": [
        "# TAKE INPUT OF A NUMBER FROM USER AND STORE IT IN A WELL NAMED VARIABLE. USE THE INPUT TAKEN IN IF-ELSE STATEMENT TO CHECK ODD AND EVEN.\n",
        "\n",
        "\n",
        "\n",
        "\n",
        "\n",
        "\n"
      ],
      "execution_count": null,
      "outputs": []
    },
    {
      "cell_type": "markdown",
      "metadata": {
        "id": "_vkyYuOnTAko",
        "colab_type": "text"
      },
      "source": [
        "**2: GUESSING THE NUMBER:**\n",
        "\n",
        "Making a user guess a number is another easy Python program you can write in just a few lines of code. It should generate a random number between, let’s say, 0 and 100. The player then needs to guess what that number is.\n",
        "\n",
        "Should the user guess wrong, the program should respond by telling them their guess is either too low or too high. When the user guesses right, your program should ask them if they want to play again.\n",
        "\n"
      ]
    },
    {
      "cell_type": "code",
      "metadata": {
        "id": "-bEY5YCDTVuJ",
        "colab_type": "code",
        "colab": {}
      },
      "source": [
        "# WRITE YOUR CODE BELOW:\n",
        "0 - 10\n",
        "\n",
        "\n",
        "\n"
      ],
      "execution_count": null,
      "outputs": []
    },
    {
      "cell_type": "markdown",
      "metadata": {
        "id": "70l6D2y2T75-",
        "colab_type": "text"
      },
      "source": [
        "**3: HOROSCOPE**\n",
        "\n",
        "\n",
        "Create a simple horoscope program that asks the user for their star sign and outputs a fun horoscope for them. Bear in mind that your program should display an error message if the user types in their sign wrong.\n",
        "\n"
      ]
    },
    {
      "cell_type": "code",
      "metadata": {
        "id": "bM9NsuzAT_WK",
        "colab_type": "code",
        "colab": {}
      },
      "source": [
        "# WRITE YOUR CODE BELOW:\n",
        "\n",
        "\n"
      ],
      "execution_count": null,
      "outputs": []
    },
    {
      "cell_type": "markdown",
      "metadata": {
        "id": "jWCPV-HxUDzu",
        "colab_type": "text"
      },
      "source": [
        "TRY TO THINK OF A GAME WHICH YOU CAN MAKE USING FIRST 5 CLASSES FUNCTIONS AND STATEMENTS.\n",
        "\n",
        "YOU CAN ALSO RE CREATE THE MIND READER GAME WITH DIFFERENT MATHEMATICAL CALCULATIONS.\n"
      ]
    },
    {
      "cell_type": "code",
      "metadata": {
        "id": "eOVn2r22Unwk",
        "colab_type": "code",
        "colab": {}
      },
      "source": [
        "# WRITE YOUR CODE BELOW:"
      ],
      "execution_count": null,
      "outputs": []
    }
  ]
}